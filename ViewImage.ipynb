{
 "cells": [
  {
   "cell_type": "code",
   "execution_count": 1,
   "metadata": {},
   "outputs": [],
   "source": [
    "#Avg_IMG_Viewer.py created by BWM 9/12/22\n",
    "#program to create pretty averaged images plot and save them\n",
    "\n",
    "import numpy as np\n",
    "import Big_keck_load as BKL\n",
    "import os\n",
    "import matplotlib\n",
    "import matplotlib.pyplot as plt\n",
    "import sys\n",
    "import tkinter.filedialog as fd\n",
    "import Geo_Corr as gc\n",
    "import xarray as xr\n",
    "import mplcursors\n",
    "# import hvplot.xarray\n",
    "import panel.widgets as pnw\n",
    "from ipywidgets import *\n",
    "# import panel as pn\n",
    "# import panel.widgets as pnw\n",
    "import mplcursors \n"
   ]
  },
  {
   "cell_type": "code",
   "execution_count": 2,
   "metadata": {},
   "outputs": [],
   "source": [
    "\n",
    "foreFile = (\"/Users/benjaminmartin/Downloads/220nsTD_00000001.raw\")\n",
    "#foreFile = \"/Volumes/BMartin/KeckData/run-1ms_flat_fore/frames/1ms_flat_fore_00000001.raw\"\n",
    "cwd = os.getcwd()\n",
    "foreImage = open(foreFile,\"rb\")\n",
    "# backImage = open(backFile,\"rb\")\n",
    "numImagesF = int(os.path.getsize(foreFile)/(1024+512*512*2))\n",
    "# numImagesB = int(os.path.getsize(backFile)/(1024+512*512*2))\n",
    "foreStack =np.zeros(((numImagesF),8,612,532),dtype=np.double)\n",
    "# backStack = np.zeros((8,512,512),dtype=np.double)\n",
    "# Stack ={'pixels':([\"frameNum\",\"capNum\",\"x\",\"y\"], foreStack, \n",
    "#                          {'units': 'ADU', \n",
    "#                           'long_name':'data from PAD uncorrected'})}\n",
    "\n",
    "\n",
    "\n",
    "\n",
    "for fIdex in range(numImagesF):\n",
    "   payload = BKL.keckFrame(foreImage)\n",
    "   foreStack[(payload[5]-1),(payload[3]-1)%8,:,:] += gc.GeoCor(gc.doublePixelAdd(np.resize(payload[4],[512,512])))\n",
    "\n",
    "Stack =xr.Dataset({'stack1':([\"frameNum\",\"capNum\",\"y\",\"x\"], foreStack, \n",
    "                        {'units': 'ADU', \n",
    "                        'long_name':'Keck-PAD'})})\n"
   ]
  },
  {
   "cell_type": "code",
   "execution_count": 3,
   "metadata": {},
   "outputs": [],
   "source": [
    "#%matplotlib widget"
   ]
  },
  {
   "cell_type": "code",
   "execution_count": 4,
   "metadata": {},
   "outputs": [
    {
     "data": {
      "application/vnd.jupyter.widget-view+json": {
       "model_id": "3d22aed926094d84b36ba8a5df9b131e",
       "version_major": 2,
       "version_minor": 0
      },
      "text/plain": [
       "interactive(children=(IntSlider(value=0, description='Frame', max=159), IntSlider(value=40000, description='Cl…"
      ]
     },
     "metadata": {},
     "output_type": "display_data"
    },
    {
     "data": {
      "text/plain": [
       "<function __main__.Slider(Frame, ClipHigh, ClipLow)>"
      ]
     },
     "execution_count": 4,
     "metadata": {},
     "output_type": "execute_result"
    }
   ],
   "source": [
    "SD = widgets.IntSlider(min =0, max = numImagesF-1,step = 1, value = 0)\n",
    "# df = Stack.stack1.interactive.sel(frameNum=SD, capNum = SD).plot()   \n",
    "# df\n",
    "# meanStack = np.average(Stack.stack1)\n",
    "# sdStack = np.std(Stack.stack1)\n",
    "\n",
    "# clipHigh = int(meanStack + 3*sdStack)\n",
    "# clipLow = int(meanStack - 4*sdStack)\n",
    "clipHigh = 40000\n",
    "clipH = widgets.IntSlider(min =0, max = clipHigh,step = 100, value = clipHigh)\n",
    "clipL = widgets.IntSlider(min =0, max = clipHigh,step = 100, value = 0)\n",
    "#title(title=))\n",
    "def Slider (Frame,ClipHigh,ClipLow):\n",
    "    df = np.clip(Stack.stack1.sel(frameNum=Frame, capNum = Frame%8,),ClipLow,ClipHigh)\n",
    "    #x = df.plot()\n",
    "    #if you want to use 2-98% of data for cmap)\n",
    "    x= df.plot(robust=True)\n",
    "    capNum = Frame&7\n",
    "    plt.title(\"Frame Number {}, Cap Number {}\".format(Frame+1,capNum+1))\n",
    "    plt.gca().invert_yaxis()\n",
    "    # mplcursors.cursor()\n",
    "    return x\n",
    "\n",
    "# title=(\"Frame Number {}, Cap Number {}\".format(Frame,Frame&8) \n",
    "interact(Slider, Frame = SD, ClipLow = clipL, ClipHigh = clipH,)\n",
    "\n"
   ]
  },
  {
   "cell_type": "code",
   "execution_count": 5,
   "metadata": {},
   "outputs": [
    {
     "ename": "KeyError",
     "evalue": "'y'",
     "output_type": "error",
     "traceback": [
      "\u001b[0;31m---------------------------------------------------------------------------\u001b[0m",
      "\u001b[0;31mKeyError\u001b[0m                                  Traceback (most recent call last)",
      "Cell \u001b[0;32mIn[5], line 21\u001b[0m\n\u001b[1;32m     19\u001b[0m \u001b[39m# ax.legend(loc=\"upper right\")\u001b[39;00m\n\u001b[1;32m     20\u001b[0m axs\n\u001b[0;32m---> 21\u001b[0m df\u001b[39m.\u001b[39mplot\u001b[39m.\u001b[39msurface(x\u001b[39m=\u001b[39m\u001b[39m\"\u001b[39m\u001b[39mx\u001b[39m\u001b[39m\"\u001b[39m,y\u001b[39m=\u001b[39m\u001b[39m\"\u001b[39m\u001b[39my\u001b[39m\u001b[39m\"\u001b[39m,z \u001b[39m=\u001b[39m df[\u001b[39m\"\u001b[39;49m\u001b[39mx\u001b[39;49m\u001b[39m\"\u001b[39;49m,\u001b[39m\"\u001b[39;49m\u001b[39my\u001b[39;49m\u001b[39m\"\u001b[39;49m])\n\u001b[1;32m     22\u001b[0m \u001b[39m#if you want to use 2-98% of data for cmap)\u001b[39;00m\n\u001b[1;32m     23\u001b[0m capNum \u001b[39m=\u001b[39m Frame\u001b[39m&\u001b[39m\u001b[39m7\u001b[39m\n",
      "File \u001b[0;32m/opt/homebrew/lib/python3.11/site-packages/xarray/core/dataarray.py:817\u001b[0m, in \u001b[0;36mDataArray.__getitem__\u001b[0;34m(self, key)\u001b[0m\n\u001b[1;32m    814\u001b[0m     \u001b[39mreturn\u001b[39;00m \u001b[39mself\u001b[39m\u001b[39m.\u001b[39m_getitem_coord(key)\n\u001b[1;32m    815\u001b[0m \u001b[39melse\u001b[39;00m:\n\u001b[1;32m    816\u001b[0m     \u001b[39m# xarray-style array indexing\u001b[39;00m\n\u001b[0;32m--> 817\u001b[0m     \u001b[39mreturn\u001b[39;00m \u001b[39mself\u001b[39;49m\u001b[39m.\u001b[39;49misel(indexers\u001b[39m=\u001b[39;49m\u001b[39mself\u001b[39;49m\u001b[39m.\u001b[39;49m_item_key_to_dict(key))\n",
      "File \u001b[0;32m/opt/homebrew/lib/python3.11/site-packages/xarray/core/dataarray.py:1394\u001b[0m, in \u001b[0;36mDataArray.isel\u001b[0;34m(self, indexers, drop, missing_dims, **indexers_kwargs)\u001b[0m\n\u001b[1;32m   1391\u001b[0m indexers \u001b[39m=\u001b[39m either_dict_or_kwargs(indexers, indexers_kwargs, \u001b[39m\"\u001b[39m\u001b[39misel\u001b[39m\u001b[39m\"\u001b[39m)\n\u001b[1;32m   1393\u001b[0m \u001b[39mif\u001b[39;00m \u001b[39many\u001b[39m(is_fancy_indexer(idx) \u001b[39mfor\u001b[39;00m idx \u001b[39min\u001b[39;00m indexers\u001b[39m.\u001b[39mvalues()):\n\u001b[0;32m-> 1394\u001b[0m     ds \u001b[39m=\u001b[39m \u001b[39mself\u001b[39;49m\u001b[39m.\u001b[39;49m_to_temp_dataset()\u001b[39m.\u001b[39;49m_isel_fancy(\n\u001b[1;32m   1395\u001b[0m         indexers, drop\u001b[39m=\u001b[39;49mdrop, missing_dims\u001b[39m=\u001b[39;49mmissing_dims\n\u001b[1;32m   1396\u001b[0m     )\n\u001b[1;32m   1397\u001b[0m     \u001b[39mreturn\u001b[39;00m \u001b[39mself\u001b[39m\u001b[39m.\u001b[39m_from_temp_dataset(ds)\n\u001b[1;32m   1399\u001b[0m \u001b[39m# Much faster algorithm for when all indexers are ints, slices, one-dimensional\u001b[39;00m\n\u001b[1;32m   1400\u001b[0m \u001b[39m# lists, or zero or one-dimensional np.ndarray's\u001b[39;00m\n",
      "File \u001b[0;32m/opt/homebrew/lib/python3.11/site-packages/xarray/core/dataset.py:2477\u001b[0m, in \u001b[0;36mDataset._isel_fancy\u001b[0;34m(self, indexers, drop, missing_dims)\u001b[0m\n\u001b[1;32m   2470\u001b[0m \u001b[39mdef\u001b[39;00m \u001b[39m_isel_fancy\u001b[39m(\n\u001b[1;32m   2471\u001b[0m     \u001b[39mself\u001b[39m: T_Dataset,\n\u001b[1;32m   2472\u001b[0m     indexers: Mapping[Any, Any],\n\u001b[0;32m   (...)\u001b[0m\n\u001b[1;32m   2475\u001b[0m     missing_dims: ErrorOptionsWithWarn \u001b[39m=\u001b[39m \u001b[39m\"\u001b[39m\u001b[39mraise\u001b[39m\u001b[39m\"\u001b[39m,\n\u001b[1;32m   2476\u001b[0m ) \u001b[39m-\u001b[39m\u001b[39m>\u001b[39m T_Dataset:\n\u001b[0;32m-> 2477\u001b[0m     valid_indexers \u001b[39m=\u001b[39m \u001b[39mdict\u001b[39;49m(\u001b[39mself\u001b[39;49m\u001b[39m.\u001b[39;49m_validate_indexers(indexers, missing_dims))\n\u001b[1;32m   2479\u001b[0m     variables: \u001b[39mdict\u001b[39m[Hashable, Variable] \u001b[39m=\u001b[39m {}\n\u001b[1;32m   2480\u001b[0m     indexes, index_variables \u001b[39m=\u001b[39m isel_indexes(\u001b[39mself\u001b[39m\u001b[39m.\u001b[39mxindexes, valid_indexers)\n",
      "File \u001b[0;32m/opt/homebrew/lib/python3.11/site-packages/xarray/core/dataset.py:2306\u001b[0m, in \u001b[0;36mDataset._validate_indexers\u001b[0;34m(self, indexers, missing_dims)\u001b[0m\n\u001b[1;32m   2303\u001b[0m     v \u001b[39m=\u001b[39m np\u001b[39m.\u001b[39masarray(v)\n\u001b[1;32m   2305\u001b[0m \u001b[39mif\u001b[39;00m v\u001b[39m.\u001b[39mdtype\u001b[39m.\u001b[39mkind \u001b[39min\u001b[39;00m \u001b[39m\"\u001b[39m\u001b[39mUS\u001b[39m\u001b[39m\"\u001b[39m:\n\u001b[0;32m-> 2306\u001b[0m     index \u001b[39m=\u001b[39m \u001b[39mself\u001b[39;49m\u001b[39m.\u001b[39;49m_indexes[k]\u001b[39m.\u001b[39mto_pandas_index()\n\u001b[1;32m   2307\u001b[0m     \u001b[39mif\u001b[39;00m \u001b[39misinstance\u001b[39m(index, pd\u001b[39m.\u001b[39mDatetimeIndex):\n\u001b[1;32m   2308\u001b[0m         v \u001b[39m=\u001b[39m v\u001b[39m.\u001b[39mastype(\u001b[39m\"\u001b[39m\u001b[39mdatetime64[ns]\u001b[39m\u001b[39m\"\u001b[39m)\n",
      "\u001b[0;31mKeyError\u001b[0m: 'y'"
     ]
    },
    {
     "data": {
      "image/png": "[encoded data removed]",
      "text/plain": [
       "<Figure size 640x480 with 1 Axes>"
      ]
     },
     "metadata": {},
     "output_type": "display_data"
    }
   ],
   "source": [
    "# %%\n",
    "from matplotlib.widgets import MultiCursor\n",
    "SD = widgets.IntSlider(min =0, max = numImagesF-1,step = 1, value = 0)\n",
    "# df = Stack.stack1.interactive.sel(frameNum=SD, capNum = SD).plot()   \n",
    "# df\n",
    "# meanStack = np.average(Stack.stack1)\n",
    "# sdStack = np.std(Stack.stack1)\n",
    "\n",
    "# clipHigh = int(meanStack + 3*sdStack)\n",
    "# clipLow = int(meanStack - 4*sdStack)\n",
    "clipHigh = 40000\n",
    "clipH = widgets.IntSlider(min =0, max = clipHigh,step = 100, value = clipHigh)\n",
    "\n",
    "#title(title=))\n",
    "#def Slider (Frame,ClipHigh,):\n",
    "Frame = 1   \n",
    "df = np.clip(Stack.stack1.sel(frameNum=Frame, capNum = Frame%8,),None,clipHigh)\n",
    "fig, axs = plt.subplots(nrows=1, sharex=True)\n",
    "# ax.legend(loc=\"upper right\")\n",
    "axs\n",
    "df.plot.surface(x=\"x\",y=\"y\",z = df[\"x\",\"y\"])\n",
    "#if you want to use 2-98% of data for cmap)\n",
    "capNum = Frame&7\n",
    "plt.title(\"Frame Number {}, Cap Number {}\".format(Frame+1,capNum+1))\n",
    "plt.gca().invert_yaxis()\n",
    "# multi = MultiCursor(fig.canvas, (\"x\",\"y\"), color='g', lw=2,\n",
    "#                 horizOn=False, vertOn=True)\n",
    "\n",
    "# plt.draw()\n",
    "\n",
    "# title=(\"Frame Number {}, Cap Number {}\".format(Frame,Frame&8) \n",
    "# interact(Slider, Frame = SD, ClipHigh = clipH,)\n",
    "\n"
   ]
  }
 ],
 "metadata": {
  "kernelspec": {
   "display_name": "Python 3",
   "language": "python",
   "name": "python3"
  },
  "language_info": {
   "codemirror_mode": {
    "name": "ipython",
    "version": 3
   },
   "file_extension": ".py",
   "mimetype": "text/x-python",
   "name": "python",
   "nbconvert_exporter": "python",
   "pygments_lexer": "ipython3",
   "version": "3.11.2"
  },
  "orig_nbformat": 4
 },
 "nbformat": 4,
 "nbformat_minor": 2
}
